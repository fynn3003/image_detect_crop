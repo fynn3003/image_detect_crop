{
 "cells": [
  {
   "cell_type": "code",
   "execution_count": 1,
   "metadata": {},
   "outputs": [],
   "source": [
    "import cv2\n",
    "import imutils\n",
    "import os\n",
    "hog = cv2.HOGDescriptor()\n",
    "hog.setSVMDetector(cv2.HOGDescriptor_getDefaultPeopleDetector())"
   ]
  },
  {
   "cell_type": "code",
   "execution_count": 2,
   "metadata": {},
   "outputs": [],
   "source": [
    "image = cv2.imread('new_images/356051527_1417595712365178_4543451288409473732_n.jpg')"
   ]
  },
  {
   "cell_type": "code",
   "execution_count": 3,
   "metadata": {},
   "outputs": [],
   "source": [
    "image = imutils.resize(image, width=min(400, image.shape[1]))"
   ]
  },
  {
   "cell_type": "code",
   "execution_count": 4,
   "metadata": {},
   "outputs": [],
   "source": [
    "#detecting regions with human\n",
    "(regions, _) = hog.detectMultiScale(image, winStride=(4,4), padding=(4,4), scale=1.05)"
   ]
  },
  {
   "cell_type": "code",
   "execution_count": 5,
   "metadata": {},
   "outputs": [
    {
     "name": "stdout",
     "output_type": "stream",
     "text": [
      "No human detected in the image.\n"
     ]
    }
   ],
   "source": [
    "if len(regions) > 0:\n",
    "    # Calculate the enclosing region that includes all detected humans\n",
    "    x_min = min(regions[:, 0])\n",
    "    y_min = min(regions[:, 1])\n",
    "    x_max = max(regions[:, 0] + regions[:, 2])\n",
    "    y_max = max(regions[:, 1] + regions[:, 3])\n",
    "\n",
    "    # Calculate the center of the enclosing region\n",
    "    center_x = (x_min + x_max) // 2\n",
    "    center_y = (y_min + y_max) // 2\n",
    "\n",
    "    # Calculate the coordinates for cropping a 512x512 square around the center\n",
    "    size = 256  # Half of the desired size (512/2)\n",
    "    start_x = center_x - size\n",
    "    end_x = center_x + size\n",
    "    start_y = center_y - size\n",
    "    end_y = center_y + size\n",
    "\n",
    "    # Ensure the cropping region is within the image dimensions\n",
    "    start_x = max(0, start_x)\n",
    "    start_y = max(0, start_y)\n",
    "    end_x = min(image.shape[1] - 1, end_x)\n",
    "    end_y = min(image.shape[0] - 1, end_y)\n",
    "\n",
    "    # Crop the image to the 512x512 region around the detected human\n",
    "    cropped_image = image[start_y:end_y, start_x:end_x]\n",
    "\n",
    "    # Resize the cropped image to 512x512\n",
    "    resized_image = cv2.resize(cropped_image, (512, 512))\n",
    "\n",
    "    # Display the original image with rectangles around detected humans\n",
    "    for (x, y, w, h) in regions:\n",
    "        cv2.rectangle(image, (x, y), (x + w, y + h), (0, 0, 255), 2)\n",
    "    \n",
    "    # cv2.imshow(\"Resized Image\", resized_image)\n",
    "    # cv2.waitKey(0)\n",
    "    # cv2.destroyAllWindows()\n",
    "\n",
    "else:\n",
    "    print(\"No human detected in the image.\")\n"
   ]
  },
  {
   "cell_type": "code",
   "execution_count": null,
   "metadata": {},
   "outputs": [],
   "source": [
    "output_dir = \"resized_images\"\n",
    "output_path = os.path.join(output_dir, 'resized_image.jpg')"
   ]
  },
  {
   "cell_type": "code",
   "execution_count": null,
   "metadata": {},
   "outputs": [],
   "source": [
    "cv2.imwrite(output_path, resized_image)"
   ]
  },
  {
   "cell_type": "code",
   "execution_count": null,
   "metadata": {},
   "outputs": [],
   "source": [
    "# for (x, y, w, h) in regions:\n",
    "#     cv2.rectangle(image, (x, y), (x + w, y + h), (0, 0, 255), 2)"
   ]
  },
  {
   "cell_type": "code",
   "execution_count": 5,
   "metadata": {},
   "outputs": [],
   "source": [
    "cv2.imshow(\"i\", image)\n",
    "cv2.waitKey(0)\n",
    "cv2.destroyAllWindows()"
   ]
  }
 ],
 "metadata": {
  "kernelspec": {
   "display_name": "venv",
   "language": "python",
   "name": "python3"
  },
  "language_info": {
   "codemirror_mode": {
    "name": "ipython",
    "version": 3
   },
   "file_extension": ".py",
   "mimetype": "text/x-python",
   "name": "python",
   "nbconvert_exporter": "python",
   "pygments_lexer": "ipython3",
   "version": "3.11.2"
  },
  "orig_nbformat": 4
 },
 "nbformat": 4,
 "nbformat_minor": 2
}
